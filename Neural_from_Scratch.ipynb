{
 "cells": [
  {
   "cell_type": "code",
   "execution_count": 1,
   "id": "57f008e7",
   "metadata": {
    "ExecuteTime": {
     "end_time": "2022-03-23T12:56:18.906175Z",
     "start_time": "2022-03-23T12:56:12.804086Z"
    }
   },
   "outputs": [],
   "source": [
    "import numpy as np\n",
    "import pandas as pd\n",
    "from matplotlib import pyplot as plt"
   ]
  },
  {
   "cell_type": "code",
   "execution_count": 6,
   "id": "d1e65800",
   "metadata": {
    "ExecuteTime": {
     "end_time": "2022-03-23T13:14:18.163368Z",
     "start_time": "2022-03-23T13:14:13.677876Z"
    }
   },
   "outputs": [],
   "source": [
    "data = pd.read_csv('mnist_train.csv')"
   ]
  },
  {
   "cell_type": "code",
   "execution_count": 7,
   "id": "3e9c57c9",
   "metadata": {
    "ExecuteTime": {
     "end_time": "2022-03-23T13:14:30.917391Z",
     "start_time": "2022-03-23T13:14:30.867610Z"
    }
   },
   "outputs": [
    {
     "data": {
      "text/html": [
       "<div>\n",
       "<style scoped>\n",
       "    .dataframe tbody tr th:only-of-type {\n",
       "        vertical-align: middle;\n",
       "    }\n",
       "\n",
       "    .dataframe tbody tr th {\n",
       "        vertical-align: top;\n",
       "    }\n",
       "\n",
       "    .dataframe thead th {\n",
       "        text-align: right;\n",
       "    }\n",
       "</style>\n",
       "<table border=\"1\" class=\"dataframe\">\n",
       "  <thead>\n",
       "    <tr style=\"text-align: right;\">\n",
       "      <th></th>\n",
       "      <th>5</th>\n",
       "      <th>0</th>\n",
       "      <th>0.1</th>\n",
       "      <th>0.2</th>\n",
       "      <th>0.3</th>\n",
       "      <th>0.4</th>\n",
       "      <th>0.5</th>\n",
       "      <th>0.6</th>\n",
       "      <th>0.7</th>\n",
       "      <th>0.8</th>\n",
       "      <th>...</th>\n",
       "      <th>0.608</th>\n",
       "      <th>0.609</th>\n",
       "      <th>0.610</th>\n",
       "      <th>0.611</th>\n",
       "      <th>0.612</th>\n",
       "      <th>0.613</th>\n",
       "      <th>0.614</th>\n",
       "      <th>0.615</th>\n",
       "      <th>0.616</th>\n",
       "      <th>0.617</th>\n",
       "    </tr>\n",
       "  </thead>\n",
       "  <tbody>\n",
       "    <tr>\n",
       "      <th>0</th>\n",
       "      <td>0</td>\n",
       "      <td>0</td>\n",
       "      <td>0</td>\n",
       "      <td>0</td>\n",
       "      <td>0</td>\n",
       "      <td>0</td>\n",
       "      <td>0</td>\n",
       "      <td>0</td>\n",
       "      <td>0</td>\n",
       "      <td>0</td>\n",
       "      <td>...</td>\n",
       "      <td>0</td>\n",
       "      <td>0</td>\n",
       "      <td>0</td>\n",
       "      <td>0</td>\n",
       "      <td>0</td>\n",
       "      <td>0</td>\n",
       "      <td>0</td>\n",
       "      <td>0</td>\n",
       "      <td>0</td>\n",
       "      <td>0</td>\n",
       "    </tr>\n",
       "    <tr>\n",
       "      <th>1</th>\n",
       "      <td>4</td>\n",
       "      <td>0</td>\n",
       "      <td>0</td>\n",
       "      <td>0</td>\n",
       "      <td>0</td>\n",
       "      <td>0</td>\n",
       "      <td>0</td>\n",
       "      <td>0</td>\n",
       "      <td>0</td>\n",
       "      <td>0</td>\n",
       "      <td>...</td>\n",
       "      <td>0</td>\n",
       "      <td>0</td>\n",
       "      <td>0</td>\n",
       "      <td>0</td>\n",
       "      <td>0</td>\n",
       "      <td>0</td>\n",
       "      <td>0</td>\n",
       "      <td>0</td>\n",
       "      <td>0</td>\n",
       "      <td>0</td>\n",
       "    </tr>\n",
       "    <tr>\n",
       "      <th>2</th>\n",
       "      <td>1</td>\n",
       "      <td>0</td>\n",
       "      <td>0</td>\n",
       "      <td>0</td>\n",
       "      <td>0</td>\n",
       "      <td>0</td>\n",
       "      <td>0</td>\n",
       "      <td>0</td>\n",
       "      <td>0</td>\n",
       "      <td>0</td>\n",
       "      <td>...</td>\n",
       "      <td>0</td>\n",
       "      <td>0</td>\n",
       "      <td>0</td>\n",
       "      <td>0</td>\n",
       "      <td>0</td>\n",
       "      <td>0</td>\n",
       "      <td>0</td>\n",
       "      <td>0</td>\n",
       "      <td>0</td>\n",
       "      <td>0</td>\n",
       "    </tr>\n",
       "    <tr>\n",
       "      <th>3</th>\n",
       "      <td>9</td>\n",
       "      <td>0</td>\n",
       "      <td>0</td>\n",
       "      <td>0</td>\n",
       "      <td>0</td>\n",
       "      <td>0</td>\n",
       "      <td>0</td>\n",
       "      <td>0</td>\n",
       "      <td>0</td>\n",
       "      <td>0</td>\n",
       "      <td>...</td>\n",
       "      <td>0</td>\n",
       "      <td>0</td>\n",
       "      <td>0</td>\n",
       "      <td>0</td>\n",
       "      <td>0</td>\n",
       "      <td>0</td>\n",
       "      <td>0</td>\n",
       "      <td>0</td>\n",
       "      <td>0</td>\n",
       "      <td>0</td>\n",
       "    </tr>\n",
       "    <tr>\n",
       "      <th>4</th>\n",
       "      <td>2</td>\n",
       "      <td>0</td>\n",
       "      <td>0</td>\n",
       "      <td>0</td>\n",
       "      <td>0</td>\n",
       "      <td>0</td>\n",
       "      <td>0</td>\n",
       "      <td>0</td>\n",
       "      <td>0</td>\n",
       "      <td>0</td>\n",
       "      <td>...</td>\n",
       "      <td>0</td>\n",
       "      <td>0</td>\n",
       "      <td>0</td>\n",
       "      <td>0</td>\n",
       "      <td>0</td>\n",
       "      <td>0</td>\n",
       "      <td>0</td>\n",
       "      <td>0</td>\n",
       "      <td>0</td>\n",
       "      <td>0</td>\n",
       "    </tr>\n",
       "  </tbody>\n",
       "</table>\n",
       "<p>5 rows × 785 columns</p>\n",
       "</div>"
      ],
      "text/plain": [
       "   5  0  0.1  0.2  0.3  0.4  0.5  0.6  0.7  0.8  ...  0.608  0.609  0.610  \\\n",
       "0  0  0    0    0    0    0    0    0    0    0  ...      0      0      0   \n",
       "1  4  0    0    0    0    0    0    0    0    0  ...      0      0      0   \n",
       "2  1  0    0    0    0    0    0    0    0    0  ...      0      0      0   \n",
       "3  9  0    0    0    0    0    0    0    0    0  ...      0      0      0   \n",
       "4  2  0    0    0    0    0    0    0    0    0  ...      0      0      0   \n",
       "\n",
       "   0.611  0.612  0.613  0.614  0.615  0.616  0.617  \n",
       "0      0      0      0      0      0      0      0  \n",
       "1      0      0      0      0      0      0      0  \n",
       "2      0      0      0      0      0      0      0  \n",
       "3      0      0      0      0      0      0      0  \n",
       "4      0      0      0      0      0      0      0  \n",
       "\n",
       "[5 rows x 785 columns]"
      ]
     },
     "execution_count": 7,
     "metadata": {},
     "output_type": "execute_result"
    }
   ],
   "source": [
    "data.head()"
   ]
  },
  {
   "cell_type": "code",
   "execution_count": 9,
   "id": "55db6368",
   "metadata": {
    "ExecuteTime": {
     "end_time": "2022-03-23T13:15:36.276336Z",
     "start_time": "2022-03-23T13:15:36.254447Z"
    }
   },
   "outputs": [
    {
     "data": {
      "text/plain": [
       "(59999, 785)"
      ]
     },
     "execution_count": 9,
     "metadata": {},
     "output_type": "execute_result"
    }
   ],
   "source": [
    "data.shape"
   ]
  },
  {
   "cell_type": "code",
   "execution_count": 10,
   "id": "63533c8e",
   "metadata": {
    "ExecuteTime": {
     "end_time": "2022-03-23T13:16:16.060789Z",
     "start_time": "2022-03-23T13:16:15.861765Z"
    }
   },
   "outputs": [],
   "source": [
    "data = np.array(data)"
   ]
  },
  {
   "cell_type": "code",
   "execution_count": 13,
   "id": "3a902391",
   "metadata": {
    "ExecuteTime": {
     "end_time": "2022-03-23T13:16:51.157101Z",
     "start_time": "2022-03-23T13:16:51.136794Z"
    }
   },
   "outputs": [
    {
     "data": {
      "text/plain": [
       "(59999, 785)"
      ]
     },
     "execution_count": 13,
     "metadata": {},
     "output_type": "execute_result"
    }
   ],
   "source": [
    "m, n = data.shape\n",
    "\n",
    "m,n"
   ]
  },
  {
   "cell_type": "code",
   "execution_count": 4,
   "id": "ca932ed7",
   "metadata": {
    "ExecuteTime": {
     "end_time": "2022-03-23T13:13:33.070073Z",
     "start_time": "2022-03-23T13:13:30.997306Z"
    }
   },
   "outputs": [],
   "source": [
    "data = np.array(data)\n",
    "m, n = data.shape\n",
    "np.random.shuffle(data) # shuffle before splitting into dev and training sets\n",
    "\n",
    "data_dev = data[0:1000].T\n",
    "Y_dev = data_dev[0]\n",
    "X_dev = data_dev[1:n]\n",
    "X_dev = X_dev / 255.\n",
    "\n",
    "data_train = data[1000:m].T\n",
    "Y_train = data_train[0]\n",
    "X_train = data_train[1:n]\n",
    "X_train = X_train / 255.\n",
    "_,m_train = X_train.shape"
   ]
  },
  {
   "cell_type": "code",
   "execution_count": 19,
   "id": "5c42800c",
   "metadata": {
    "ExecuteTime": {
     "end_time": "2022-03-23T13:25:47.587295Z",
     "start_time": "2022-03-23T13:25:47.571909Z"
    }
   },
   "outputs": [
    {
     "data": {
      "text/plain": [
       "array([7, 7, 4, ..., 8, 0, 8], dtype=int64)"
      ]
     },
     "execution_count": 19,
     "metadata": {},
     "output_type": "execute_result"
    }
   ],
   "source": [
    "Y_train"
   ]
  },
  {
   "cell_type": "code",
   "execution_count": 20,
   "id": "8fc367c1",
   "metadata": {
    "ExecuteTime": {
     "end_time": "2022-03-23T13:26:00.262605Z",
     "start_time": "2022-03-23T13:26:00.248228Z"
    }
   },
   "outputs": [
    {
     "data": {
      "text/plain": [
       "array([[0., 0., 0., ..., 0., 0., 0.],\n",
       "       [0., 0., 0., ..., 0., 0., 0.],\n",
       "       [0., 0., 0., ..., 0., 0., 0.],\n",
       "       ...,\n",
       "       [0., 0., 0., ..., 0., 0., 0.],\n",
       "       [0., 0., 0., ..., 0., 0., 0.],\n",
       "       [0., 0., 0., ..., 0., 0., 0.]])"
      ]
     },
     "execution_count": 20,
     "metadata": {},
     "output_type": "execute_result"
    }
   ],
   "source": [
    "X_train"
   ]
  },
  {
   "cell_type": "code",
   "execution_count": 22,
   "id": "9462285c",
   "metadata": {
    "ExecuteTime": {
     "end_time": "2022-03-23T13:27:13.337382Z",
     "start_time": "2022-03-23T13:27:13.315604Z"
    }
   },
   "outputs": [
    {
     "data": {
      "text/plain": [
       "array([[0.20471409, 0.80866149, 0.227907  ]])"
      ]
     },
     "execution_count": 22,
     "metadata": {},
     "output_type": "execute_result"
    }
   ],
   "source": [
    "np.random.rand(1,3)"
   ]
  },
  {
   "cell_type": "code",
   "execution_count": 21,
   "id": "b7b35457",
   "metadata": {
    "ExecuteTime": {
     "end_time": "2022-03-23T13:26:45.608115Z",
     "start_time": "2022-03-23T13:26:45.600045Z"
    }
   },
   "outputs": [],
   "source": [
    "def init_params():\n",
    "    W1 = np.random.rand(10, 784) - 0.5\n",
    "    b1 = np.random.rand(10, 1) - 0.5\n",
    "    W2 = np.random.rand(10, 10) - 0.5\n",
    "    b2 = np.random.rand(10, 1) - 0.5\n",
    "    return W1, b1, W2, b2"
   ]
  },
  {
   "cell_type": "code",
   "execution_count": 23,
   "id": "bf7bb045",
   "metadata": {
    "ExecuteTime": {
     "end_time": "2022-03-23T13:50:23.759230Z",
     "start_time": "2022-03-23T13:50:23.740062Z"
    }
   },
   "outputs": [],
   "source": [
    "def ReLU(Z):\n",
    "    return np.maximum(Z, 0)"
   ]
  },
  {
   "cell_type": "code",
   "execution_count": 24,
   "id": "02c2b124",
   "metadata": {
    "ExecuteTime": {
     "end_time": "2022-03-23T13:50:31.764259Z",
     "start_time": "2022-03-23T13:50:31.746052Z"
    }
   },
   "outputs": [],
   "source": [
    "def softmax(Z):\n",
    "    A = np.exp(Z) / sum(np.exp(Z))\n",
    "    return A"
   ]
  },
  {
   "cell_type": "code",
   "execution_count": 25,
   "id": "1d3c24ae",
   "metadata": {
    "ExecuteTime": {
     "end_time": "2022-03-23T13:50:50.805219Z",
     "start_time": "2022-03-23T13:50:50.799412Z"
    }
   },
   "outputs": [],
   "source": [
    "def forward_prop(W1, b1, W2, b2, X):\n",
    "    Z1 = W1.dot(X) + b1\n",
    "    A1 = ReLU(Z1)\n",
    "    Z2 = W2.dot(A1) + b2\n",
    "    A2 = softmax(Z2)\n",
    "    return Z1, A1, Z2, A2"
   ]
  },
  {
   "cell_type": "code",
   "execution_count": 26,
   "id": "3eefcb8b",
   "metadata": {
    "ExecuteTime": {
     "end_time": "2022-03-23T13:51:01.304598Z",
     "start_time": "2022-03-23T13:51:01.281801Z"
    }
   },
   "outputs": [],
   "source": [
    "def ReLU_deriv(Z):\n",
    "    return Z > 0"
   ]
  },
  {
   "cell_type": "code",
   "execution_count": 27,
   "id": "16290b02",
   "metadata": {
    "ExecuteTime": {
     "end_time": "2022-03-23T13:51:11.555734Z",
     "start_time": "2022-03-23T13:51:11.545333Z"
    }
   },
   "outputs": [],
   "source": [
    "def one_hot(Y):\n",
    "    one_hot_Y = np.zeros((Y.size, Y.max() + 1))\n",
    "    one_hot_Y[np.arange(Y.size), Y] = 1\n",
    "    one_hot_Y = one_hot_Y.T\n",
    "    return one_hot_Y"
   ]
  },
  {
   "cell_type": "code",
   "execution_count": 28,
   "id": "d084a704",
   "metadata": {
    "ExecuteTime": {
     "end_time": "2022-03-23T13:51:44.311245Z",
     "start_time": "2022-03-23T13:51:44.294605Z"
    }
   },
   "outputs": [],
   "source": [
    "\n",
    "def backward_prop(Z1, A1, Z2, A2, W1, W2, X, Y):\n",
    "    one_hot_Y = one_hot(Y)\n",
    "    dZ2 = A2 - one_hot_Y\n",
    "    dW2 = 1 / m * dZ2.dot(A1.T)\n",
    "    db2 = 1 / m * np.sum(dZ2)\n",
    "    dZ1 = W2.T.dot(dZ2) * ReLU_deriv(Z1)\n",
    "    dW1 = 1 / m * dZ1.dot(X.T)\n",
    "    db1 = 1 / m * np.sum(dZ1)\n",
    "    return dW1, db1, dW2, db2\n",
    "\n",
    "def update_params(W1, b1, W2, b2, dW1, db1, dW2, db2, alpha):\n",
    "    W1 = W1 - alpha * dW1\n",
    "    b1 = b1 - alpha * db1    \n",
    "    W2 = W2 - alpha * dW2  \n",
    "    b2 = b2 - alpha * db2    \n",
    "    return W1, b1, W2, b2"
   ]
  },
  {
   "cell_type": "code",
   "execution_count": 29,
   "id": "26671085",
   "metadata": {
    "ExecuteTime": {
     "end_time": "2022-03-23T13:53:19.778856Z",
     "start_time": "2022-03-23T13:52:19.111956Z"
    }
   },
   "outputs": [
    {
     "name": "stdout",
     "output_type": "stream",
     "text": [
      "Iteration:  0\n",
      "[8 7 5 ... 7 0 5] [7 7 4 ... 8 0 8]\n",
      "0.13561246800793234\n",
      "Iteration:  10\n",
      "[8 7 0 ... 7 0 5] [7 7 4 ... 8 0 8]\n",
      "0.18818963033271752\n",
      "Iteration:  20\n",
      "[8 7 4 ... 0 0 8] [7 7 4 ... 8 0 8]\n",
      "0.2555297547416058\n",
      "Iteration:  30\n",
      "[8 7 4 ... 1 0 3] [7 7 4 ... 8 0 8]\n",
      "0.3143782098001661\n",
      "Iteration:  40\n",
      "[8 7 0 ... 1 0 3] [7 7 4 ... 8 0 8]\n",
      "0.3640231190359159\n",
      "Iteration:  50\n",
      "[8 7 0 ... 1 0 1] [7 7 4 ... 8 0 8]\n",
      "0.41756639943049884\n",
      "Iteration:  60\n",
      "[8 4 4 ... 1 0 8] [7 7 4 ... 8 0 8]\n",
      "0.467685892981237\n",
      "Iteration:  70\n",
      "[8 4 4 ... 1 0 8] [7 7 4 ... 8 0 8]\n",
      "0.503025475008051\n",
      "Iteration:  80\n",
      "[8 7 9 ... 1 0 8] [7 7 4 ... 8 0 8]\n",
      "0.5355683994643977\n",
      "Iteration:  90\n",
      "[8 7 9 ... 1 0 8] [7 7 4 ... 8 0 8]\n",
      "0.5645519415583315\n",
      "Iteration:  100\n",
      "[8 7 9 ... 1 0 8] [7 7 4 ... 8 0 8]\n",
      "0.5916032475126697\n",
      "Iteration:  110\n",
      "[8 7 9 ... 1 0 8] [7 7 4 ... 8 0 8]\n",
      "0.612790047288937\n",
      "Iteration:  120\n",
      "[8 7 9 ... 1 0 1] [7 7 4 ... 8 0 8]\n",
      "0.6310445939761691\n",
      "Iteration:  130\n",
      "[8 7 9 ... 1 0 1] [7 7 4 ... 8 0 8]\n",
      "0.6462651909354395\n",
      "Iteration:  140\n",
      "[8 7 2 ... 1 0 1] [7 7 4 ... 8 0 8]\n",
      "0.6607739114222275\n",
      "Iteration:  150\n",
      "[8 7 2 ... 1 0 1] [7 7 4 ... 8 0 8]\n",
      "0.6731131036119257\n",
      "Iteration:  160\n",
      "[8 7 2 ... 1 0 1] [7 7 4 ... 8 0 8]\n",
      "0.6841302394955847\n",
      "Iteration:  170\n",
      "[7 7 5 ... 1 0 1] [7 7 4 ... 8 0 8]\n",
      "0.6942321056289089\n",
      "Iteration:  180\n",
      "[7 7 5 ... 1 0 1] [7 7 4 ... 8 0 8]\n",
      "0.7022661401040695\n",
      "Iteration:  190\n",
      "[7 7 5 ... 1 0 1] [7 7 4 ... 8 0 8]\n",
      "0.7110967982508178\n",
      "Iteration:  200\n",
      "[7 7 5 ... 1 0 1] [7 7 4 ... 8 0 8]\n",
      "0.7188426922490212\n",
      "Iteration:  210\n",
      "[7 7 5 ... 1 0 1] [7 7 4 ... 8 0 8]\n",
      "0.725927558094205\n",
      "Iteration:  220\n",
      "[7 7 5 ... 1 0 1] [7 7 4 ... 8 0 8]\n",
      "0.7327581823420736\n",
      "Iteration:  230\n",
      "[7 7 5 ... 1 0 1] [7 7 4 ... 8 0 8]\n",
      "0.7388091323581756\n",
      "Iteration:  240\n",
      "[7 7 5 ... 1 0 1] [7 7 4 ... 8 0 8]\n",
      "0.7443007508601841\n",
      "Iteration:  250\n",
      "[7 7 5 ... 1 0 1] [7 7 4 ... 8 0 8]\n",
      "0.7505381447143172\n",
      "Iteration:  260\n",
      "[7 7 5 ... 1 0 1] [7 7 4 ... 8 0 8]\n",
      "0.7555212800216953\n",
      "Iteration:  270\n",
      "[7 7 5 ... 1 0 1] [7 7 4 ... 8 0 8]\n",
      "0.7605213647688944\n",
      "Iteration:  280\n",
      "[7 7 5 ... 1 0 1] [7 7 4 ... 8 0 8]\n",
      "0.7651146629603892\n",
      "Iteration:  290\n",
      "[7 7 5 ... 1 0 1] [7 7 4 ... 8 0 8]\n",
      "0.7694706689943898\n",
      "Iteration:  300\n",
      "[7 7 5 ... 1 0 1] [7 7 4 ... 8 0 8]\n",
      "0.7740131188664214\n",
      "Iteration:  310\n",
      "[7 7 5 ... 1 0 8] [7 7 4 ... 8 0 8]\n",
      "0.7781318327429279\n",
      "Iteration:  320\n",
      "[7 7 5 ... 1 0 8] [7 7 4 ... 8 0 8]\n",
      "0.782030203901761\n",
      "Iteration:  330\n",
      "[7 7 5 ... 1 0 8] [7 7 4 ... 8 0 8]\n",
      "0.7860302716995203\n",
      "Iteration:  340\n",
      "[7 7 5 ... 1 0 8] [7 7 4 ... 8 0 8]\n",
      "0.7898947439787115\n",
      "Iteration:  350\n",
      "[7 7 5 ... 1 0 8] [7 7 4 ... 8 0 8]\n",
      "0.7932676825030933\n",
      "Iteration:  360\n",
      "[7 7 5 ... 1 0 8] [7 7 4 ... 8 0 8]\n",
      "0.7969796098238954\n",
      "Iteration:  370\n",
      "[7 7 5 ... 1 0 8] [7 7 4 ... 8 0 8]\n",
      "0.800216952829709\n",
      "Iteration:  380\n",
      "[7 7 5 ... 1 0 8] [7 7 4 ... 8 0 8]\n",
      "0.8030814081594603\n",
      "Iteration:  390\n",
      "[7 7 5 ... 1 0 8] [7 7 4 ... 8 0 8]\n",
      "0.8061153578874218\n",
      "Iteration:  400\n",
      "[7 7 5 ... 1 0 8] [7 7 4 ... 8 0 8]\n",
      "0.8089120154578892\n",
      "Iteration:  410\n",
      "[7 7 5 ... 1 0 8] [7 7 4 ... 8 0 8]\n",
      "0.8117086730283564\n",
      "Iteration:  420\n",
      "[7 7 5 ... 1 0 8] [7 7 4 ... 8 0 8]\n",
      "0.8142341395616874\n",
      "Iteration:  430\n",
      "[7 7 5 ... 1 0 8] [7 7 4 ... 8 0 8]\n",
      "0.8164884150578824\n",
      "Iteration:  440\n",
      "[7 7 5 ... 1 0 8] [7 7 4 ... 8 0 8]\n",
      "0.818488448956762\n",
      "Iteration:  450\n",
      "[7 7 5 ... 1 0 8] [7 7 4 ... 8 0 8]\n",
      "0.8205562806149257\n",
      "Iteration:  460\n",
      "[7 7 5 ... 8 0 8] [7 7 4 ... 8 0 8]\n",
      "0.8225563145138053\n",
      "Iteration:  470\n",
      "[7 7 5 ... 8 0 8] [7 7 4 ... 8 0 8]\n",
      "0.824573297852506\n",
      "Iteration:  480\n",
      "[7 7 5 ... 8 0 8] [7 7 4 ... 8 0 8]\n",
      "0.8265733317513856\n",
      "Iteration:  490\n",
      "[7 7 5 ... 8 0 8] [7 7 4 ... 8 0 8]\n",
      "0.828353022932592\n"
     ]
    }
   ],
   "source": [
    "def get_predictions(A2):\n",
    "    return np.argmax(A2, 0)\n",
    "\n",
    "def get_accuracy(predictions, Y):\n",
    "    print(predictions, Y)\n",
    "    return np.sum(predictions == Y) / Y.size\n",
    "\n",
    "def gradient_descent(X, Y, alpha, iterations):\n",
    "    W1, b1, W2, b2 = init_params()\n",
    "    for i in range(iterations):\n",
    "        Z1, A1, Z2, A2 = forward_prop(W1, b1, W2, b2, X)\n",
    "        dW1, db1, dW2, db2 = backward_prop(Z1, A1, Z2, A2, W1, W2, X, Y)\n",
    "        W1, b1, W2, b2 = update_params(W1, b1, W2, b2, dW1, db1, dW2, db2, alpha)\n",
    "        if i % 10 == 0:\n",
    "            print(\"Iteration: \", i)\n",
    "            predictions = get_predictions(A2)\n",
    "            print(get_accuracy(predictions, Y))\n",
    "    return W1, b1, W2, b2\n",
    "W1, b1, W2, b2 = gradient_descent(X_train, Y_train, 0.10, 500)"
   ]
  },
  {
   "cell_type": "code",
   "execution_count": 30,
   "id": "a24b4157",
   "metadata": {
    "ExecuteTime": {
     "end_time": "2022-03-23T14:02:49.383230Z",
     "start_time": "2022-03-23T14:02:49.360511Z"
    }
   },
   "outputs": [],
   "source": [
    "def make_predictions(X, W1, b1, W2, b2):\n",
    "    _, _, _, A2 = forward_prop(W1, b1, W2, b2, X)\n",
    "    predictions = get_predictions(A2)\n",
    "    return predictions\n"
   ]
  },
  {
   "cell_type": "code",
   "execution_count": 31,
   "id": "f625f5b2",
   "metadata": {
    "ExecuteTime": {
     "end_time": "2022-03-23T14:02:50.554906Z",
     "start_time": "2022-03-23T14:02:50.542864Z"
    }
   },
   "outputs": [],
   "source": [
    "def test_prediction(index, W1, b1, W2, b2):\n",
    "    current_image = X_train[:, index, None]\n",
    "    prediction = make_predictions(X_train[:, index, None], W1, b1, W2, b2)\n",
    "    label = Y_train[index]\n",
    "    print(\"Prediction: \", prediction)\n",
    "    print(\"Label: \", label)\n",
    "    \n",
    "    current_image = current_image.reshape((28, 28)) * 255\n",
    "    plt.gray()\n",
    "    plt.imshow(current_image, interpolation='nearest')\n",
    "    plt.show()"
   ]
  },
  {
   "cell_type": "code",
   "execution_count": 32,
   "id": "0d59d249",
   "metadata": {
    "ExecuteTime": {
     "end_time": "2022-03-23T14:02:52.819105Z",
     "start_time": "2022-03-23T14:02:51.975926Z"
    }
   },
   "outputs": [
    {
     "name": "stdout",
     "output_type": "stream",
     "text": [
      "Prediction:  [7]\n",
      "Label:  7\n"
     ]
    },
    {
     "data": {
      "image/png": "[encoded data removed]",
      "text/plain": [
       "<Figure size 432x288 with 1 Axes>"
      ]
     },
     "metadata": {
      "needs_background": "light"
     },
     "output_type": "display_data"
    },
    {
     "name": "stdout",
     "output_type": "stream",
     "text": [
      "Prediction:  [7]\n",
      "Label:  7\n"
     ]
    },
    {
     "data": {
      "image/png": "[encoded data removed]",
      "text/plain": [
       "<Figure size 432x288 with 1 Axes>"
      ]
     },
     "metadata": {
      "needs_background": "light"
     },
     "output_type": "display_data"
    },
    {
     "name": "stdout",
     "output_type": "stream",
     "text": [
      "Prediction:  [5]\n",
      "Label:  4\n"
     ]
    },
    {
     "data": {
      "image/png": "[encoded data removed]",
      "text/plain": [
       "<Figure size 432x288 with 1 Axes>"
      ]
     },
     "metadata": {
      "needs_background": "light"
     },
     "output_type": "display_data"
    },
    {
     "name": "stdout",
     "output_type": "stream",
     "text": [
      "Prediction:  [0]\n",
      "Label:  0\n"
     ]
    },
    {
     "data": {
      "image/png": "[encoded data removed]",
      "text/plain": [
       "<Figure size 432x288 with 1 Axes>"
      ]
     },
     "metadata": {
      "needs_background": "light"
     },
     "output_type": "display_data"
    }
   ],
   "source": [
    "test_prediction(0, W1, b1, W2, b2)\n",
    "test_prediction(1, W1, b1, W2, b2)\n",
    "test_prediction(2, W1, b1, W2, b2)\n",
    "test_prediction(3, W1, b1, W2, b2)"
   ]
  },
  {
   "cell_type": "code",
   "execution_count": null,
   "id": "5b4b618f",
   "metadata": {},
   "outputs": [],
   "source": []
  }
 ],
 "metadata": {
  "kernelspec": {
   "display_name": "Python 3 (ipykernel)",
   "language": "python",
   "name": "python3"
  },
  "language_info": {
   "codemirror_mode": {
    "name": "ipython",
    "version": 3
   },
   "file_extension": ".py",
   "mimetype": "text/x-python",
   "name": "python",
   "nbconvert_exporter": "python",
   "pygments_lexer": "ipython3",
   "version": "3.9.7"
  }
 },
 "nbformat": 4,
 "nbformat_minor": 5
}
