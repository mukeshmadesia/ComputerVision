{
 "cells": [
  {
   "cell_type": "code",
   "execution_count": 9,
   "id": "4e44c429",
   "metadata": {},
   "outputs": [],
   "source": [
    "#!pip intsall tensorflow"
   ]
  },
  {
   "cell_type": "code",
   "execution_count": 11,
   "id": "e48917c3",
   "metadata": {},
   "outputs": [],
   "source": [
    "import tensorflow as tf\n",
    "from tensorflow import keras\n",
    "from keras.datasets import mnist"
   ]
  },
  {
   "cell_type": "code",
   "execution_count": 13,
   "id": "c2f47c52",
   "metadata": {},
   "outputs": [
    {
     "name": "stdout",
     "output_type": "stream",
     "text": [
      "Downloading data from https://storage.googleapis.com/tensorflow/tf-keras-datasets/mnist.npz\n",
      "11493376/11490434 [==============================] - 1s 0us/step\n",
      "11501568/11490434 [==============================] - 1s 0us/step\n"
     ]
    }
   ],
   "source": [
    "(x_train,_),(x_test,_) = mnist.load_data()"
   ]
  },
  {
   "cell_type": "code",
   "execution_count": 15,
   "id": "4d09751d",
   "metadata": {},
   "outputs": [
    {
     "data": {
      "text/plain": [
       "((60000, 28, 28), (10000, 28, 28))"
      ]
     },
     "execution_count": 15,
     "metadata": {},
     "output_type": "execute_result"
    }
   ],
   "source": [
    "x_train.shape, x_test.shape"
   ]
  },
  {
   "cell_type": "code",
   "execution_count": 16,
   "id": "d6ebcbbe",
   "metadata": {},
   "outputs": [],
   "source": [
    "x_train = x_train.astype('float')/255\n",
    "x_test = x_test.astype('float')/255"
   ]
  },
  {
   "cell_type": "code",
   "execution_count": 18,
   "id": "8f00b51d",
   "metadata": {},
   "outputs": [],
   "source": [
    "import numpy as np\n",
    "x_train_reshaped = np.reshape(a = x_train, newshape = (60000,28,28,1))\n",
    "x_test_reshaped = np.reshape(a = x_test, newshape = (10000,28,28,1))"
   ]
  },
  {
   "cell_type": "code",
   "execution_count": 20,
   "id": "8a933ee2",
   "metadata": {},
   "outputs": [
    {
     "data": {
      "text/plain": [
       "((10000, 28, 28, 1), (60000, 28, 28, 1))"
      ]
     },
     "execution_count": 20,
     "metadata": {},
     "output_type": "execute_result"
    }
   ],
   "source": [
    "x_test_reshaped.shape, x_train_reshaped.shape"
   ]
  },
  {
   "cell_type": "code",
   "execution_count": 21,
   "id": "1ef6f6cc",
   "metadata": {},
   "outputs": [],
   "source": [
    "import matplotlib.pyplot as plt"
   ]
  },
  {
   "cell_type": "code",
   "execution_count": 24,
   "id": "3d042c1f",
   "metadata": {},
   "outputs": [
    {
     "data": {
      "image/png": "[encoded data removed]",
      "text/plain": [
       "<Figure size 432x288 with 1 Axes>"
      ]
     },
     "metadata": {
      "needs_background": "light"
     },
     "output_type": "display_data"
    }
   ],
   "source": [
    "plt.imshow(x_train[1])\n",
    "plt.show()"
   ]
  },
  {
   "cell_type": "code",
   "execution_count": 25,
   "id": "3d25f66a",
   "metadata": {},
   "outputs": [
    {
     "data": {
      "image/png": "[encoded data removed]",
      "text/plain": [
       "<Figure size 432x288 with 1 Axes>"
      ]
     },
     "metadata": {
      "needs_background": "light"
     },
     "output_type": "display_data"
    }
   ],
   "source": [
    "plt.imshow(x_train[1],cmap='gray')\n",
    "plt.show()"
   ]
  },
  {
   "cell_type": "markdown",
   "id": "3670fce1",
   "metadata": {},
   "source": [
    "## Step - To add Noise"
   ]
  },
  {
   "cell_type": "code",
   "execution_count": 34,
   "id": "2cdba05f",
   "metadata": {},
   "outputs": [],
   "source": [
    "x_train_noisy = x_train_reshaped + 0.2*np.random.normal(loc = 0,scale = 1.0, size = (60000,28,28,1))"
   ]
  },
  {
   "cell_type": "code",
   "execution_count": 36,
   "id": "3248defc",
   "metadata": {},
   "outputs": [],
   "source": [
    "x_test_noisy = x_test_reshaped + 0.2*np.random.normal(loc = 0,scale = 1.0, size = (10000,28,28,1))"
   ]
  },
  {
   "cell_type": "code",
   "execution_count": 39,
   "id": "db990ea2",
   "metadata": {},
   "outputs": [
    {
     "data": {
      "image/png": "[encoded data removed]",
      "text/plain": [
       "<Figure size 432x288 with 1 Axes>"
      ]
     },
     "metadata": {
      "needs_background": "light"
     },
     "output_type": "display_data"
    }
   ],
   "source": [
    "plt.imshow(x_train_noisy[0],cmap='gray')\n",
    "plt.show()"
   ]
  },
  {
   "cell_type": "markdown",
   "id": "d96f6244",
   "metadata": {},
   "source": [
    "## Clip you Image"
   ]
  },
  {
   "cell_type": "code",
   "execution_count": 40,
   "id": "16a22203",
   "metadata": {},
   "outputs": [],
   "source": [
    "x_train_clipped = np.clip(a = x_train_noisy, a_min = 0, a_max=3)"
   ]
  },
  {
   "cell_type": "code",
   "execution_count": 41,
   "id": "b405d2e4",
   "metadata": {},
   "outputs": [],
   "source": [
    "x_test_clipped = np.clip(a = x_test_noisy, a_min = 0, a_max=3)"
   ]
  },
  {
   "cell_type": "code",
   "execution_count": 42,
   "id": "e47bb014",
   "metadata": {},
   "outputs": [
    {
     "data": {
      "text/plain": [
       "<matplotlib.image.AxesImage at 0x27e81655ee0>"
      ]
     },
     "execution_count": 42,
     "metadata": {},
     "output_type": "execute_result"
    },
    {
     "data": {
      "image/png": "[encoded data removed]",
      "text/plain": [
       "<Figure size 432x288 with 1 Axes>"
      ]
     },
     "metadata": {
      "needs_background": "light"
     },
     "output_type": "display_data"
    }
   ],
   "source": [
    "plt.imshow(x_train_clipped[0],cmap='gray')"
   ]
  },
  {
   "cell_type": "markdown",
   "id": "28434f92",
   "metadata": {},
   "source": [
    "# Model Building"
   ]
  },
  {
   "cell_type": "markdown",
   "id": "53835fa4",
   "metadata": {},
   "source": [
    "## Encoding"
   ]
  },
  {
   "cell_type": "code",
   "execution_count": 57,
   "id": "2e9d42c2",
   "metadata": {},
   "outputs": [],
   "source": [
    "from keras.models import Sequential\n",
    "from keras.layers import Conv2D, MaxPooling2D, UpSampling2D"
   ]
  },
  {
   "cell_type": "code",
   "execution_count": 80,
   "id": "84161400",
   "metadata": {},
   "outputs": [],
   "source": [
    "model = Sequential()\n",
    "model.add(Conv2D(input_shape=(28,28,1),filters=32,kernel_size=(3,3),padding='same',strides=1,activation='relu'))\n",
    "model.add(MaxPooling2D(pool_size =(2,2),strides =2))\n",
    "model.add(Conv2D(filters = 8,kernel_size = (3,3),padding = 'same',strides = 1,activation = 'relu'))\n",
    "model.add(MaxPooling2D(pool_size = (2,2),strides = 2))\n",
    "model.add(Conv2D(filters = 8,kernel_size = (3,3),padding = 'same',strides = 1,activation = 'relu'))\n",
    "model.add(MaxPooling2D(pool_size = (2,2),strides = 2,padding = 'same'))"
   ]
  },
  {
   "cell_type": "code",
   "execution_count": 76,
   "id": "2945a093",
   "metadata": {},
   "outputs": [
    {
     "name": "stdout",
     "output_type": "stream",
     "text": [
      "Model: \"sequential_12\"\n",
      "_________________________________________________________________\n",
      " Layer (type)                Output Shape              Param #   \n",
      "=================================================================\n",
      " conv2d_49 (Conv2D)          (None, 28, 28, 32)        320       \n",
      "                                                                 \n",
      " max_pooling2d_20 (MaxPoolin  (None, 14, 14, 32)       0         \n",
      " g2D)                                                            \n",
      "                                                                 \n",
      " conv2d_50 (Conv2D)          (None, 14, 14, 8)         2312      \n",
      "                                                                 \n",
      " max_pooling2d_21 (MaxPoolin  (None, 7, 7, 8)          0         \n",
      " g2D)                                                            \n",
      "                                                                 \n",
      " conv2d_51 (Conv2D)          (None, 7, 7, 8)           584       \n",
      "                                                                 \n",
      " max_pooling2d_22 (MaxPoolin  (None, 4, 4, 8)          0         \n",
      " g2D)                                                            \n",
      "                                                                 \n",
      "=================================================================\n",
      "Total params: 3,216\n",
      "Trainable params: 3,216\n",
      "Non-trainable params: 0\n",
      "_________________________________________________________________\n"
     ]
    }
   ],
   "source": [
    "model.summary()"
   ]
  },
  {
   "cell_type": "markdown",
   "id": "c6d1c0a3",
   "metadata": {},
   "source": [
    "### Decoder"
   ]
  },
  {
   "cell_type": "code",
   "execution_count": 81,
   "id": "ec076235",
   "metadata": {},
   "outputs": [
    {
     "name": "stdout",
     "output_type": "stream",
     "text": [
      "Model: \"sequential_14\"\n",
      "_________________________________________________________________\n",
      " Layer (type)                Output Shape              Param #   \n",
      "=================================================================\n",
      " conv2d_63 (Conv2D)          (None, 28, 28, 32)        320       \n",
      "                                                                 \n",
      " max_pooling2d_26 (MaxPoolin  (None, 14, 14, 32)       0         \n",
      " g2D)                                                            \n",
      "                                                                 \n",
      " conv2d_64 (Conv2D)          (None, 14, 14, 8)         2312      \n",
      "                                                                 \n",
      " max_pooling2d_27 (MaxPoolin  (None, 7, 7, 8)          0         \n",
      " g2D)                                                            \n",
      "                                                                 \n",
      " conv2d_65 (Conv2D)          (None, 7, 7, 8)           584       \n",
      "                                                                 \n",
      " max_pooling2d_28 (MaxPoolin  (None, 4, 4, 8)          0         \n",
      " g2D)                                                            \n",
      "                                                                 \n",
      " conv2d_66 (Conv2D)          (None, 4, 4, 8)           584       \n",
      "                                                                 \n",
      " up_sampling2d_24 (UpSamplin  (None, 8, 8, 8)          0         \n",
      " g2D)                                                            \n",
      "                                                                 \n",
      " conv2d_67 (Conv2D)          (None, 8, 8, 8)           584       \n",
      "                                                                 \n",
      " up_sampling2d_25 (UpSamplin  (None, 16, 16, 8)        0         \n",
      " g2D)                                                            \n",
      "                                                                 \n",
      " conv2d_68 (Conv2D)          (None, 14, 14, 32)        2336      \n",
      "                                                                 \n",
      " up_sampling2d_26 (UpSamplin  (None, 28, 28, 32)       0         \n",
      " g2D)                                                            \n",
      "                                                                 \n",
      " conv2d_69 (Conv2D)          (None, 28, 28, 1)         289       \n",
      "                                                                 \n",
      "=================================================================\n",
      "Total params: 7,009\n",
      "Trainable params: 7,009\n",
      "Non-trainable params: 0\n",
      "_________________________________________________________________\n"
     ]
    }
   ],
   "source": [
    "model.add(Conv2D(filters = 8,kernel_size = (3,3),padding = 'same',strides = 1,activation = 'relu'))\n",
    "model.add(UpSampling2D(size = (2,2)))\n",
    "model.add(Conv2D(filters = 8,kernel_size = (3,3),padding = 'same',strides = 1,activation = 'relu'))\n",
    "model.add(UpSampling2D(size = (2,2)))\n",
    "model.add(Conv2D(filters = 32,kernel_size = (3,3),strides = 1,activation = 'relu'))\n",
    "\n",
    "model.add(UpSampling2D(size = (2,2)))\n",
    "model.add(Conv2D(filters = 1,kernel_size = (3,3),strides = 1,padding='same', activation = 'relu'))\n",
    "\n",
    "\n",
    "model.summary()"
   ]
  },
  {
   "cell_type": "code",
   "execution_count": 82,
   "id": "e6fe5d3d",
   "metadata": {},
   "outputs": [],
   "source": [
    "model.compile(optimizer='adam',loss=['mean_squared_error'])"
   ]
  },
  {
   "cell_type": "code",
   "execution_count": 83,
   "id": "8735df19",
   "metadata": {},
   "outputs": [
    {
     "name": "stdout",
     "output_type": "stream",
     "text": [
      "Epoch 1/5\n",
      "1875/1875 [==============================] - 99s 52ms/step - loss: 0.0270 - val_loss: 0.0191\n",
      "Epoch 2/5\n",
      "1875/1875 [==============================] - 97s 52ms/step - loss: 0.0176 - val_loss: 0.0157\n",
      "Epoch 3/5\n",
      "1875/1875 [==============================] - 97s 52ms/step - loss: 0.0153 - val_loss: 0.0146\n",
      "Epoch 4/5\n",
      "1875/1875 [==============================] - 97s 52ms/step - loss: 0.0141 - val_loss: 0.0137\n",
      "Epoch 5/5\n",
      "1875/1875 [==============================] - 96s 51ms/step - loss: 0.0133 - val_loss: 0.0126\n"
     ]
    },
    {
     "data": {
      "text/plain": [
       "<keras.callbacks.History at 0x27e816b8c70>"
      ]
     },
     "execution_count": 83,
     "metadata": {},
     "output_type": "execute_result"
    }
   ],
   "source": [
    "model.fit(x=x_train_clipped,y=x_train,epochs=5, batch_size=32, validation_data=(x_test_clipped, x_test))"
   ]
  },
  {
   "cell_type": "code",
   "execution_count": 85,
   "id": "a20aceae",
   "metadata": {},
   "outputs": [],
   "source": [
    "y_pred = model.predict(x_test_noisy)"
   ]
  },
  {
   "cell_type": "code",
   "execution_count": 86,
   "id": "36dff28f",
   "metadata": {},
   "outputs": [
    {
     "data": {
      "image/png": "[encoded data removed]",
      "text/plain": [
       "<Figure size 432x288 with 1 Axes>"
      ]
     },
     "metadata": {
      "needs_background": "light"
     },
     "output_type": "display_data"
    }
   ],
   "source": [
    "plt.imshow(x_test_noisy[0],cmap='gray')\n",
    "plt.show()"
   ]
  },
  {
   "cell_type": "code",
   "execution_count": 87,
   "id": "fa1a73f0",
   "metadata": {},
   "outputs": [
    {
     "data": {
      "image/png": "[encoded data removed]",
      "text/plain": [
       "<Figure size 432x288 with 1 Axes>"
      ]
     },
     "metadata": {
      "needs_background": "light"
     },
     "output_type": "display_data"
    }
   ],
   "source": [
    "plt.imshow(y_pred[0],cmap='gray')\n",
    "plt.show()"
   ]
  },
  {
   "cell_type": "markdown",
   "id": "890fb870",
   "metadata": {},
   "source": [
    "## The End"
   ]
  },
  {
   "cell_type": "code",
   "execution_count": null,
   "id": "fdfc0e2e",
   "metadata": {},
   "outputs": [],
   "source": []
  }
 ],
 "metadata": {
  "gist": {
   "data": {
    "description": "Desktop/ExcelR/JupyterProjects/Untitled.ipynb",
    "public": true
   },
   "id": ""
  },
  "kernelspec": {
   "display_name": "Python 3 (ipykernel)",
   "language": "python",
   "name": "python3"
  },
  "language_info": {
   "codemirror_mode": {
    "name": "ipython",
    "version": 3
   },
   "file_extension": ".py",
   "mimetype": "text/x-python",
   "name": "python",
   "nbconvert_exporter": "python",
   "pygments_lexer": "ipython3",
   "version": "3.9.7"
  }
 },
 "nbformat": 4,
 "nbformat_minor": 5
}
